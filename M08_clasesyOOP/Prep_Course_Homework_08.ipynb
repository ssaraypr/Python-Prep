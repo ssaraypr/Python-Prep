{
 "cells": [
  {
   "attachments": {},
   "cell_type": "markdown",
   "metadata": {},
   "source": [
    "## Clases y Programación Orientada a Objetos"
   ]
  },
  {
   "attachments": {},
   "cell_type": "markdown",
   "metadata": {},
   "source": [
    "1) Crear la clase vehículo que contenga los atributos:<br>\n",
    "Color<br>\n",
    "Si es moto, auto, camioneta ó camión<br>\n",
    "Cilindrada del motor"
   ]
  },
  {
   "cell_type": "code",
   "execution_count": 3,
   "metadata": {},
   "outputs": [],
   "source": [
    "class Vehiculo:\n",
    "    def __init__ (self, color, tipo, cilindraje):\n",
    "        self.color = color\n",
    "        self.tipo = tipo\n",
    "        self.cilindraje = cilindraje"
   ]
  },
  {
   "attachments": {},
   "cell_type": "markdown",
   "metadata": {},
   "source": [
    "2) A la clase Vehiculo creada en el punto 1, agregar los siguientes métodos:<br>\n",
    "Acelerar<br>\n",
    "Frenar<br>\n",
    "Doblar<br>"
   ]
  },
  {
   "cell_type": "code",
   "execution_count": 12,
   "metadata": {},
   "outputs": [],
   "source": [
    "class Vehiculo:\n",
    "    def __init__(self, color, tipo, cilindraje):\n",
    "        self.color = color\n",
    "        self.tipo = tipo\n",
    "        self.cilindraje = cilindraje\n",
    "        self.velocidad = 0\n",
    "        self.dirección = 0\n",
    "        \n",
    "    def Acelerar(self, velocidad):\n",
    "        self.velocidad += velocidad\n",
    "        \n",
    "        \n",
    "    \n",
    "    def frenar (self, velocidad):\n",
    "        self.velocidad -= velocidad\n",
    "        \n",
    "    \n",
    "    def doblar (self,direccion):\n",
    "        self.dirección += direccion\n"
   ]
  },
  {
   "attachments": {},
   "cell_type": "markdown",
   "metadata": {},
   "source": [
    "3) Instanciar 3 objetos de la clase vehículo y ejecutar sus métodos, probar luego el resultado"
   ]
  },
  {
   "cell_type": "code",
   "execution_count": 15,
   "metadata": {},
   "outputs": [],
   "source": [
    "v1 = Vehiculo(\"azul\", \"moto\", 2600)\n",
    "v2 = Vehiculo(\"blanco\", \"carro\", 1.2)\n",
    "v3 = Vehiculo(\"gris\", \"caminón\", 6)     \n",
    "                 \n"
   ]
  },
  {
   "cell_type": "code",
   "execution_count": 16,
   "metadata": {},
   "outputs": [
    {
     "name": "stdout",
     "output_type": "stream",
     "text": [
      "Velocidad es: 7\n",
      "Velocidad es: 5\n"
     ]
    }
   ],
   "source": [
    "v1.Acelerar(7)\n",
    "v1.frenar(2)"
   ]
  },
  {
   "attachments": {},
   "cell_type": "markdown",
   "metadata": {},
   "source": [
    "4) Agregar a la clase Vehiculo, un método que muestre su estado, es decir, a que velocidad se encuentra y su dirección. Y otro método que muestre color, tipo y cilindrada"
   ]
  },
  {
   "cell_type": "code",
   "execution_count": 29,
   "metadata": {},
   "outputs": [],
   "source": [
    "class Vehiculo:\n",
    "    def __init__(self, color, tipo, cilindraje):\n",
    "        self.color = color\n",
    "        self.tipo = tipo\n",
    "        self.cilindraje = cilindraje\n",
    "        self.velocidad = 0\n",
    "        self.direccion = 0\n",
    "        \n",
    "    def Acelerar(self, velocidad):\n",
    "        self.velocidad += velocidad\n",
    "        \n",
    "        \n",
    "    \n",
    "    def frenar (self, velocidad):\n",
    "        self.velocidad -= velocidad\n",
    "        \n",
    "    \n",
    "    def doblar (self, direccion):\n",
    "        self.direccion += direccion\n",
    "\n",
    "    def muestra_estado (self):\n",
    "        print (\"Velocidad acutal es:\", self.velocidad)\n",
    "        print (\"Dirección actual es:\", self.direccion)\n",
    "\n",
    "    def presentacion_vehiculo (self):\n",
    "        print (\"El color del vehiculo es:\", self.color, \"tipo:\", self.tipo, \"cilindraje:\", self.cilindraje)"
   ]
  },
  {
   "cell_type": "code",
   "execution_count": 30,
   "metadata": {},
   "outputs": [
    {
     "name": "stdout",
     "output_type": "stream",
     "text": [
      "El color del vehiculo es: verde tipo: bicicleta cilindraje: 0\n"
     ]
    }
   ],
   "source": [
    "v4 = Vehiculo(\"verde\",\"bicicleta\",0)\n",
    "v4.presentacion_vehiculo()"
   ]
  },
  {
   "cell_type": "code",
   "execution_count": 31,
   "metadata": {},
   "outputs": [
    {
     "name": "stdout",
     "output_type": "stream",
     "text": [
      "Velocidad acutal es: 2\n",
      "Dirección actual es: 30\n"
     ]
    }
   ],
   "source": [
    "v4.Acelerar(4)\n",
    "v4.frenar(2)\n",
    "v4.doblar(30)\n",
    "v4.muestra_estado()"
   ]
  },
  {
   "attachments": {},
   "cell_type": "markdown",
   "metadata": {},
   "source": [
    "5) Crear una clase que permita utilizar las funciones creadas en la práctica del módulo 7<br>\n",
    "Verificar Primo<br>\n",
    "Valor modal<br>\n",
    "Conversión grados<br>\n",
    "Factorial<br>"
   ]
  },
  {
   "cell_type": "code",
   "execution_count": 63,
   "metadata": {},
   "outputs": [],
   "source": [
    "class Funciones_Practica:\n",
    "\n",
    "    def __init__ (self):\n",
    "        pass\n",
    "\n",
    "    def verificar_primo (self, numero):\n",
    "        primo = True\n",
    "        for div in range (2, numero):\n",
    "            if numero % div == 0:\n",
    "                primo = False\n",
    "                break\n",
    "        return primo\n",
    "    \n",
    "    def valor_modal (self, lista):\n",
    "        lista_unicos = []\n",
    "        lista_repeticiones = []\n",
    "        if len(self.lista) == 0:\n",
    "            return None\n",
    "        for elemento in self.lista:\n",
    "            if elemento in lista_unicos:\n",
    "                i = lista_unicos.index(elemento)\n",
    "                lista_repeticiones[i] += 1\n",
    "            else:\n",
    "                lista_unicos.append(elemento)\n",
    "                lista_repeticiones.append(1)\n",
    "        moda = lista_unicos[0]\n",
    "        maximo = lista_repeticiones[0]\n",
    "        for i, elemento in enumerate(lista_unicos):\n",
    "            if lista_repeticiones[i] > maximo:\n",
    "                moda = lista_unicos[i]\n",
    "                maximo = lista_repeticiones[i]\n",
    "        return moda, maximo\n",
    "    \n",
    "    def conversion_temperatura ( self, valor , origen , destino):\n",
    "        if origen == \"°C\":\n",
    "            if destino == \"°C\":\n",
    "                temperatura_destino = valor\n",
    "            elif destino == \"°F\":\n",
    "                temperatura_destino = (valor * 9/5) + 32\n",
    "            elif destino == \"°K\":\n",
    "                temperatura_destino = (valor + 273.15)\n",
    "            else:\n",
    "                print (\"Parametro destino incorrecto\")\n",
    "        elif origen == \"°F\":\n",
    "            if destino == \"°C\":\n",
    "                temperatura_destino = (valor - 32) * 5/9\n",
    "            elif destino == \"°F\":\n",
    "                temperatura_destino = valor\n",
    "            elif destino == \"°K\":\n",
    "                temperatura_destino = ((valor - 32)*5/9) + 273.15\n",
    "            else:\n",
    "                print (\"Parametro destino incorrecto\")\n",
    "        elif origen == \"°K\":\n",
    "            if destino == \"°C\":\n",
    "                temperatura_destino = valor - 273.15\n",
    "            elif destino == \"°F\":\n",
    "                temperatura_destino = ((valor - 273.15)* 9/5 ) + 32\n",
    "            elif destino == \"°K\":\n",
    "                temperatura_destino = valor\n",
    "            else:\n",
    "                print (\"Parametro destino incorrecto\")\n",
    "        else:\n",
    "            print(\"Parametro origen incorrecto\")\n",
    "        return temperatura_destino\n",
    "    \n",
    "    def factorial (self, numero):\n",
    "        if type(numero) != int:\n",
    "            return \"Debe ser un numero entero para calcular factorial\"\n",
    "        elif numero < 0 :\n",
    "            return \"Debe ser un número positivo para calcular factorial\"\n",
    "        elif numero == 0:\n",
    "            return 1\n",
    "        else:\n",
    "            numero = numero * self.factorial (numero-1)\n",
    "            return numero\n"
   ]
  },
  {
   "attachments": {},
   "cell_type": "markdown",
   "metadata": {},
   "source": [
    "6) Probar las funciones incorporadas en la clase del punto 5"
   ]
  },
  {
   "cell_type": "code",
   "execution_count": 51,
   "metadata": {},
   "outputs": [],
   "source": [
    "prueba = Funciones_Practica()"
   ]
  },
  {
   "cell_type": "code",
   "execution_count": 53,
   "metadata": {},
   "outputs": [
    {
     "data": {
      "text/plain": [
       "120"
      ]
     },
     "execution_count": 53,
     "metadata": {},
     "output_type": "execute_result"
    }
   ],
   "source": [
    "prueba.factorial(5)"
   ]
  },
  {
   "cell_type": "code",
   "execution_count": 55,
   "metadata": {},
   "outputs": [
    {
     "data": {
      "text/plain": [
       "False"
      ]
     },
     "execution_count": 55,
     "metadata": {},
     "output_type": "execute_result"
    }
   ],
   "source": [
    "prueba.verificar_primo (4)"
   ]
  },
  {
   "cell_type": "code",
   "execution_count": 64,
   "metadata": {},
   "outputs": [
    {
     "ename": "TypeError",
     "evalue": "Funciones_Practica.valor_modal() takes 1 positional argument but 2 were given",
     "output_type": "error",
     "traceback": [
      "\u001b[1;31m---------------------------------------------------------------------------\u001b[0m",
      "\u001b[1;31mTypeError\u001b[0m                                 Traceback (most recent call last)",
      "Cell \u001b[1;32mIn[64], line 2\u001b[0m\n\u001b[0;32m      1\u001b[0m listado_prueba \u001b[38;5;241m=\u001b[39m [\u001b[38;5;241m1\u001b[39m,\u001b[38;5;241m1\u001b[39m,\u001b[38;5;241m1\u001b[39m,\u001b[38;5;241m2\u001b[39m,\u001b[38;5;241m3\u001b[39m,\u001b[38;5;241m4\u001b[39m,\u001b[38;5;241m5\u001b[39m]\n\u001b[1;32m----> 2\u001b[0m \u001b[43mprueba\u001b[49m\u001b[38;5;241;43m.\u001b[39;49m\u001b[43mvalor_modal\u001b[49m\u001b[43m \u001b[49m\u001b[43m(\u001b[49m\u001b[43mlistado_prueba\u001b[49m\u001b[43m)\u001b[49m\n",
      "\u001b[1;31mTypeError\u001b[0m: Funciones_Practica.valor_modal() takes 1 positional argument but 2 were given"
     ]
    }
   ],
   "source": [
    "listado_prueba = [1,1,1,2,3,4,5]\n",
    "prueba.valor_modal (listado_prueba)"
   ]
  },
  {
   "cell_type": "code",
   "execution_count": 62,
   "metadata": {},
   "outputs": [
    {
     "data": {
      "text/plain": [
       "86.0"
      ]
     },
     "execution_count": 62,
     "metadata": {},
     "output_type": "execute_result"
    }
   ],
   "source": [
    "prueba.conversion_temperatura(30,\"°C\",\"°F\")\n",
    "print()"
   ]
  },
  {
   "attachments": {},
   "cell_type": "markdown",
   "metadata": {},
   "source": [
    "7) Es necesario que la clase creada en el punto 5 contenga una lista, sobre la cual se apliquen las funciones incorporadas"
   ]
  },
  {
   "cell_type": "code",
   "execution_count": null,
   "metadata": {},
   "outputs": [],
   "source": [
    "class Funciones_Practica:\n",
    "\n",
    "    def __init__ (self,lista_numero):\n",
    "        self.lista_funciones = lista_numero\n",
    "\n",
    "    def verificar_primo (self):\n",
    "        for i in self.lista_funciones:\n",
    "            if (self.verificar_primo(i)) == True:\n",
    "                print(\"El elemento\", i, \"Es número primo\")\n",
    "            else:\n",
    "                print (\"El elemnto\", i, \"No es un número primo\")\n",
    "    \n",
    "    def valor_modal (self, lista):\n",
    "        lista_unicos = []\n",
    "        lista_repeticiones = []\n",
    "        if len(self.lista) == 0:\n",
    "            return None\n",
    "        for elemento in self.lista:\n",
    "            if elemento in lista_unicos:\n",
    "                i = lista_unicos.index(elemento)\n",
    "                lista_repeticiones[i] += 1\n",
    "            else:\n",
    "                lista_unicos.append(elemento)\n",
    "                lista_repeticiones.append(1)\n",
    "        moda = lista_unicos[0]\n",
    "        maximo = lista_repeticiones[0]\n",
    "        for i, elemento in enumerate(lista_unicos):\n",
    "            if lista_repeticiones[i] > maximo:\n",
    "                moda = lista_unicos[i]\n",
    "                maximo = lista_repeticiones[i]\n",
    "        return moda, maximo\n",
    "    \n",
    "    def conversion_temperatura ( self, valor , origen , destino):\n",
    "        if origen == \"°C\":\n",
    "            if destino == \"°C\":\n",
    "                temperatura_destino = valor\n",
    "            elif destino == \"°F\":\n",
    "                temperatura_destino = (valor * 9/5) + 32\n",
    "            elif destino == \"°K\":\n",
    "                temperatura_destino = (valor + 273.15)\n",
    "            else:\n",
    "                print (\"Parametro destino incorrecto\")\n",
    "        elif origen == \"°F\":\n",
    "            if destino == \"°C\":\n",
    "                temperatura_destino = (valor - 32) * 5/9\n",
    "            elif destino == \"°F\":\n",
    "                temperatura_destino = valor\n",
    "            elif destino == \"°K\":\n",
    "                temperatura_destino = ((valor - 32)*5/9) + 273.15\n",
    "            else:\n",
    "                print (\"Parametro destino incorrecto\")\n",
    "        elif origen == \"°K\":\n",
    "            if destino == \"°C\":\n",
    "                temperatura_destino = valor - 273.15\n",
    "            elif destino == \"°F\":\n",
    "                temperatura_destino = ((valor - 273.15)* 9/5 ) + 32\n",
    "            elif destino == \"°K\":\n",
    "                temperatura_destino = valor\n",
    "            else:\n",
    "                print (\"Parametro destino incorrecto\")\n",
    "        else:\n",
    "            print(\"Parametro origen incorrecto\")\n",
    "        return temperatura_destino\n",
    "    \n",
    "    def factorial (self, numero):\n",
    "        if type(numero) != int:\n",
    "            return \"Debe ser un numero entero para calcular factorial\"\n",
    "        elif numero < 0 :\n",
    "            return \"Debe ser un número positivo para calcular factorial\"\n",
    "        elif numero == 0:\n",
    "            return 1\n",
    "        else:\n",
    "            numero = numero * self.factorial (numero-1)\n",
    "            return numero\n"
   ]
  },
  {
   "attachments": {},
   "cell_type": "markdown",
   "metadata": {},
   "source": [
    "8) Crear un archivo .py aparte y ubicar allí la clase generada en el punto anterior. Luego realizar la importación del módulo y probar alguna de sus funciones"
   ]
  },
  {
   "cell_type": "code",
   "execution_count": 1,
   "metadata": {},
   "outputs": [],
   "source": [
    "from Mi_modulo import *\n"
   ]
  },
  {
   "cell_type": "code",
   "execution_count": 2,
   "metadata": {},
   "outputs": [],
   "source": [
    "lista_new = [1,1,1,2,3,4,5,78]"
   ]
  },
  {
   "cell_type": "code",
   "execution_count": 3,
   "metadata": {},
   "outputs": [],
   "source": [
    "h2 = Herramientas (lista_new)"
   ]
  },
  {
   "cell_type": "code",
   "execution_count": 4,
   "metadata": {},
   "outputs": [
    {
     "name": "stdout",
     "output_type": "stream",
     "text": [
      "1 grados celsius son 33.8 grados farenheit\n",
      "1 grados celsius son 33.8 grados farenheit\n",
      "1 grados celsius son 33.8 grados farenheit\n",
      "2 grados celsius son 35.6 grados farenheit\n",
      "3 grados celsius son 37.4 grados farenheit\n",
      "4 grados celsius son 39.2 grados farenheit\n",
      "5 grados celsius son 41.0 grados farenheit\n",
      "78 grados celsius son 172.4 grados farenheit\n"
     ]
    }
   ],
   "source": [
    "h2.conversion_grados (\"celsius\", \"farenheit\")"
   ]
  },
  {
   "cell_type": "code",
   "execution_count": 80,
   "metadata": {},
   "outputs": [],
   "source": [
    "import sys"
   ]
  },
  {
   "cell_type": "code",
   "execution_count": 83,
   "metadata": {},
   "outputs": [
    {
     "ename": "SyntaxError",
     "evalue": "(unicode error) 'unicodeescape' codec can't decode bytes in position 2-3: truncated \\UXXXXXXXX escape (1848385187.py, line 1)",
     "output_type": "error",
     "traceback": [
      "\u001b[1;36m  Cell \u001b[1;32mIn[83], line 1\u001b[1;36m\u001b[0m\n\u001b[1;33m    sys.path.append(\"C:\\Users\\SARAY\\Python-Prep\\M08_clasesyOOP\\herramientas.py\")\u001b[0m\n\u001b[1;37m                    ^\u001b[0m\n\u001b[1;31mSyntaxError\u001b[0m\u001b[1;31m:\u001b[0m (unicode error) 'unicodeescape' codec can't decode bytes in position 2-3: truncated \\UXXXXXXXX escape\n"
     ]
    }
   ],
   "source": [
    "sys.path.append(\"C:\\Users\\SARAY\\Python-Prep\\M08_clasesyOOP\\herramientas.py\")"
   ]
  },
  {
   "cell_type": "code",
   "execution_count": 72,
   "metadata": {},
   "outputs": [
    {
     "ename": "TypeError",
     "evalue": "'module' object is not callable",
     "output_type": "error",
     "traceback": [
      "\u001b[1;31m---------------------------------------------------------------------------\u001b[0m",
      "\u001b[1;31mTypeError\u001b[0m                                 Traceback (most recent call last)",
      "Cell \u001b[1;32mIn[72], line 1\u001b[0m\n\u001b[1;32m----> 1\u001b[0m h \u001b[38;5;241m=\u001b[39m \u001b[43mMi_modulo\u001b[49m\u001b[43m \u001b[49m\u001b[43m(\u001b[49m\u001b[43mlista_nueva\u001b[49m\u001b[43m)\u001b[49m\n",
      "\u001b[1;31mTypeError\u001b[0m: 'module' object is not callable"
     ]
    }
   ],
   "source": []
  }
 ],
 "metadata": {
  "interpreter": {
   "hash": "c85384e4cb51c8b72350f3a8712cc8351fdc3955e32a27f9b60c6242ab125f01"
  },
  "kernelspec": {
   "display_name": "Python 3 (ipykernel)",
   "language": "python",
   "name": "python3"
  },
  "language_info": {
   "codemirror_mode": {
    "name": "ipython",
    "version": 3
   },
   "file_extension": ".py",
   "mimetype": "text/x-python",
   "name": "python",
   "nbconvert_exporter": "python",
   "pygments_lexer": "ipython3",
   "version": "3.12.2"
  }
 },
 "nbformat": 4,
 "nbformat_minor": 4
}
