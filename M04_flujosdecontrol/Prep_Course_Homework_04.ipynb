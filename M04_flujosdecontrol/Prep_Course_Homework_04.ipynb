{
 "cells": [
  {
   "attachments": {},
   "cell_type": "markdown",
   "metadata": {},
   "source": [
    "## Flujos de Control"
   ]
  },
  {
   "attachments": {},
   "cell_type": "markdown",
   "metadata": {},
   "source": [
    "1) Crear una variable que contenga un elemento del conjunto de números enteros y luego imprimir por pantalla si es mayor o menor a cero"
   ]
  },
  {
   "cell_type": "code",
   "execution_count": 1,
   "metadata": {},
   "outputs": [
    {
     "name": "stdout",
     "output_type": "stream",
     "text": [
      "Es mayor a cero\n"
     ]
    }
   ],
   "source": [
    "numero = 2\n",
    "if numero > 0:\n",
    "    print(\"Es mayor a cero\")\n",
    "else:\n",
    "    print(\"Es menor a cero\")"
   ]
  },
  {
   "attachments": {},
   "cell_type": "markdown",
   "metadata": {},
   "source": [
    "2) Crear dos variables y un condicional que informe si son del mismo tipo de dato"
   ]
  },
  {
   "cell_type": "code",
   "execution_count": 10,
   "metadata": {},
   "outputs": [
    {
     "name": "stdout",
     "output_type": "stream",
     "text": [
      "Son diferente tipo de dato\n"
     ]
    }
   ],
   "source": [
    "a = \"hola\"\n",
    "b = 5\n",
    "if (type(a)) == (type(b)):\n",
    "    print(\"Son igual tipo de datos\")\n",
    "else:\n",
    "    print(\"Son diferente tipo de dato\")"
   ]
  },
  {
   "attachments": {},
   "cell_type": "markdown",
   "metadata": {},
   "source": [
    "3) Para los valores enteros del 1 al 20, imprimir por pantalla si es par o impar"
   ]
  },
  {
   "cell_type": "code",
   "execution_count": 13,
   "metadata": {},
   "outputs": [
    {
     "name": "stdout",
     "output_type": "stream",
     "text": [
      "el número 1 es número impar\n",
      "el número 2 es número par\n",
      "el número 3 es número impar\n",
      "el número 4 es número par\n",
      "el número 5 es número impar\n",
      "el número 6 es número par\n",
      "el número 7 es número impar\n",
      "el número 8 es número par\n",
      "el número 9 es número impar\n",
      "el número 10 es número par\n",
      "el número 11 es número impar\n",
      "el número 12 es número par\n",
      "el número 13 es número impar\n",
      "el número 14 es número par\n",
      "el número 15 es número impar\n",
      "el número 16 es número par\n",
      "el número 17 es número impar\n",
      "el número 18 es número par\n",
      "el número 19 es número impar\n",
      "el número 20 es número par\n"
     ]
    }
   ],
   "source": [
    "enteros = range(1,21)\n",
    "for num in enteros:\n",
    "    if num % 2 == 0:\n",
    "        print(\"el número\", num, \"es número par\")\n",
    "    else:\n",
    "        print(\"el número\", num, \"es número impar\")"
   ]
  },
  {
   "attachments": {},
   "cell_type": "markdown",
   "metadata": {},
   "source": [
    "4) En un ciclo for mostrar para los valores entre 0 y 5 el resultado de elevarlo a la potencia igual a 3"
   ]
  },
  {
   "cell_type": "code",
   "execution_count": 22,
   "metadata": {},
   "outputs": [
    {
     "name": "stdout",
     "output_type": "stream",
     "text": [
      "0\n",
      "1\n",
      "8\n",
      "27\n",
      "64\n",
      "125\n"
     ]
    }
   ],
   "source": [
    "valores = range(0,6)\n",
    "for num in valores:\n",
    "    num = num ** 3\n",
    "    print(num)"
   ]
  },
  {
   "cell_type": "code",
   "execution_count": 21,
   "metadata": {},
   "outputs": [
    {
     "name": "stdout",
     "output_type": "stream",
     "text": [
      "el número 0 elevado a la tercera potencia es: 0\n",
      "el número 1 elevado a la tercera potencia es: 1\n",
      "el número 2 elevado a la tercera potencia es: 8\n",
      "el número 3 elevado a la tercera potencia es: 27\n",
      "el número 4 elevado a la tercera potencia es: 64\n",
      "el número 5 elevado a la tercera potencia es: 125\n"
     ]
    }
   ],
   "source": [
    "valores = range (0,6)\n",
    "for num in valores:\n",
    "    print(\"el número\", num, \"elevado a la tercera potencia es:\", num**3)"
   ]
  },
  {
   "attachments": {},
   "cell_type": "markdown",
   "metadata": {},
   "source": [
    "5) Crear una variable que contenga un número entero y realizar un ciclo for la misma cantidad de ciclos"
   ]
  },
  {
   "cell_type": "code",
   "execution_count": 24,
   "metadata": {},
   "outputs": [
    {
     "name": "stdout",
     "output_type": "stream",
     "text": [
      "4\n"
     ]
    }
   ],
   "source": [
    "a = 5\n",
    "for ciclo in range(0, a):\n",
    "    pass\n",
    "print(ciclo)"
   ]
  },
  {
   "attachments": {},
   "cell_type": "markdown",
   "metadata": {},
   "source": [
    "6) Utilizar un ciclo while para realizar el factorial de un número guardado en una variable, sólo si la variable contiene un número entero mayor a 0"
   ]
  },
  {
   "cell_type": "code",
   "execution_count": 15,
   "metadata": {},
   "outputs": [
    {
     "name": "stdout",
     "output_type": "stream",
     "text": [
      "la variable no es un número entero\n"
     ]
    }
   ],
   "source": [
    "n = 2.6\n",
    "if (type(n) == int):\n",
    "    if (n > 0):\n",
    "        factorial = n\n",
    "        while (n > 2):\n",
    "            n= n - 1\n",
    "            factorial = factorial * n\n",
    "        print( \"el factorial es \",factorial)\n",
    "    else:\n",
    "        print(\"la variable no es mayor a cero\")\n",
    "else:\n",
    "    print(\"la variable no es un número entero\")\n",
    "\n"
   ]
  },
  {
   "cell_type": "code",
   "execution_count": 13,
   "metadata": {},
   "outputs": [
    {
     "name": "stdout",
     "output_type": "stream",
     "text": [
      "1\n"
     ]
    }
   ],
   "source": [
    "# resolución con bucle for\n",
    "\n",
    "numero = 1\n",
    "factorial = 1\n",
    "for i in range(2, (numero + 1)):\n",
    "    factorial = i * factorial\n",
    "print(factorial)"
   ]
  },
  {
   "attachments": {},
   "cell_type": "markdown",
   "metadata": {},
   "source": [
    "7) Crear un ciclo for dentro de un ciclo while"
   ]
  },
  {
   "cell_type": "code",
   "execution_count": null,
   "metadata": {},
   "outputs": [],
   "source": [
    "num = 4\n"
   ]
  },
  {
   "attachments": {},
   "cell_type": "markdown",
   "metadata": {},
   "source": [
    "8) Crear un ciclo while dentro de un ciclo for"
   ]
  },
  {
   "cell_type": "code",
   "execution_count": null,
   "metadata": {},
   "outputs": [],
   "source": []
  },
  {
   "attachments": {},
   "cell_type": "markdown",
   "metadata": {},
   "source": [
    "9) Imprimir los números primos existentes entre 0 y 30"
   ]
  },
  {
   "cell_type": "code",
   "execution_count": 23,
   "metadata": {},
   "outputs": [
    {
     "name": "stdout",
     "output_type": "stream",
     "text": [
      "0\n",
      "1\n",
      "2\n",
      "3\n",
      "5\n",
      "7\n",
      "11\n",
      "13\n",
      "17\n",
      "19\n",
      "23\n",
      "29\n"
     ]
    }
   ],
   "source": [
    "limite = 30\n",
    "n = 0\n",
    "primo = True\n",
    "while n < limite:\n",
    "    for div in range (2,n):\n",
    "        if n % div == 0:\n",
    "            primo = False\n",
    "    if (primo == True):\n",
    "         print(n)\n",
    "    else:\n",
    "        primo = True\n",
    "    n+= 1\n",
    "\n"
   ]
  },
  {
   "attachments": {},
   "cell_type": "markdown",
   "metadata": {},
   "source": [
    "10) ¿Se puede mejorar el proceso del punto 9? Utilizar las sentencias break y/ó continue para tal fin"
   ]
  },
  {
   "cell_type": "code",
   "execution_count": 4,
   "metadata": {},
   "outputs": [
    {
     "name": "stdout",
     "output_type": "stream",
     "text": [
      "0\n",
      "1\n",
      "2\n",
      "3\n",
      "5\n",
      "7\n",
      "11\n",
      "13\n",
      "17\n",
      "19\n",
      "23\n",
      "29\n"
     ]
    }
   ],
   "source": [
    "limite = 30\n",
    "n = 0\n",
    "primo = True\n",
    "while n < limite:\n",
    "    for div in range (2,n):\n",
    "        if (n % div == 0):\n",
    "            primo = False\n",
    "            break\n",
    "    if (primo == True):\n",
    "         print(n)\n",
    "    else:\n",
    "        primo = True\n",
    "    n+=1"
   ]
  },
  {
   "attachments": {},
   "cell_type": "markdown",
   "metadata": {},
   "source": [
    "11) En los puntos 9 y 10, se diseño un código que encuentra números primos y además se lo optimizó. ¿Es posible saber en qué medida se optimizó?"
   ]
  },
  {
   "cell_type": "code",
   "execution_count": null,
   "metadata": {},
   "outputs": [],
   "source": []
  },
  {
   "attachments": {},
   "cell_type": "markdown",
   "metadata": {},
   "source": [
    "12) Aplicando continue, armar un ciclo while que solo imprima los valores divisibles por 12, dentro del rango de números de 100 a 300"
   ]
  },
  {
   "cell_type": "code",
   "execution_count": 5,
   "metadata": {},
   "outputs": [
    {
     "name": "stdout",
     "output_type": "stream",
     "text": [
      "108\n",
      "120\n",
      "132\n",
      "144\n",
      "156\n",
      "168\n",
      "180\n",
      "192\n",
      "204\n",
      "216\n",
      "228\n",
      "240\n",
      "252\n",
      "264\n",
      "276\n",
      "288\n"
     ]
    }
   ],
   "source": [
    "limite = 300\n",
    "n = 100\n",
    "divisible = True\n",
    "while (n < limite):\n",
    "    if (n % 12 != 0):\n",
    "        divisible = False\n",
    "    if (divisible == True):\n",
    "        print(n)\n",
    "    else:\n",
    "        divisible = True\n",
    "    n += 1\n"
   ]
  },
  {
   "cell_type": "code",
   "execution_count": 6,
   "metadata": {},
   "outputs": [
    {
     "name": "stdout",
     "output_type": "stream",
     "text": [
      "108\n",
      "120\n",
      "132\n",
      "144\n",
      "156\n",
      "168\n",
      "180\n",
      "192\n",
      "204\n",
      "216\n",
      "228\n",
      "240\n",
      "252\n",
      "264\n",
      "276\n",
      "288\n",
      "300\n"
     ]
    }
   ],
   "source": [
    "n = 99 # se inicia la variable un valor antes de 100\n",
    "while (n < 300):\n",
    "    n += 1 # se inicia bucle adicionando el valor siguiente\n",
    "    if (n % 12 != 0): # se incluye condicion para evaluar si es divisible en 12\n",
    "        continue # si no es divisible en doce, llega hasta aquí y vuelve a iniciar bucle\n",
    "    print (n) # comprobo que si era divisible entre doce por lo que llega aquí y ejecuta.\n"
   ]
  },
  {
   "attachments": {},
   "cell_type": "markdown",
   "metadata": {},
   "source": [
    "13) Utilizar la función **input()** que permite hacer ingresos por teclado, para encontrar números primos y dar la opción al usario de buscar el siguiente"
   ]
  },
  {
   "cell_type": "code",
   "execution_count": 3,
   "metadata": {},
   "outputs": [
    {
     "name": "stdout",
     "output_type": "stream",
     "text": [
      "¿Cómo se llama?\n",
      "Me alegro conocerte Emanuel\n"
     ]
    }
   ],
   "source": [
    "print (\"¿Cómo se llama?\")\n",
    "nombre = input()\n",
    "print (\"Me alegro conocerte\", nombre)"
   ]
  },
  {
   "cell_type": "code",
   "execution_count": 12,
   "metadata": {},
   "outputs": [
    {
     "name": "stdout",
     "output_type": "stream",
     "text": [
      "1\n",
      "¿Quiere buscar el siguiente número primo?\n",
      "2\n",
      "¿Quiere buscar el siguiente número primo?\n",
      "3\n",
      "¿Quiere buscar el siguiente número primo?\n",
      "5\n",
      "¿Quiere buscar el siguiente número primo?\n",
      "7\n",
      "¿Quiere buscar el siguiente número primo?\n",
      "11\n",
      "¿Quiere buscar el siguiente número primo?\n",
      "13\n",
      "¿Quiere buscar el siguiente número primo?\n",
      "Se finaliza el proceso\n"
     ]
    }
   ],
   "source": [
    "n = 1\n",
    "continua = \"Si\"\n",
    "primo = True\n",
    "while (continua == \"Si\"):\n",
    "    for div in range (2,n):\n",
    "        if (n % div == 0):\n",
    "            primo = False\n",
    "            break\n",
    "    if (primo == True):\n",
    "         print(n)\n",
    "         print (\"¿Quiere buscar el siguiente número primo?\")\n",
    "         if (input() != \"Si\"):\n",
    "            print (\"Se finaliza el proceso\")\n",
    "            break\n",
    "    else:\n",
    "        primo = True\n",
    "    n += 1\n",
    "        "
   ]
  },
  {
   "attachments": {},
   "cell_type": "markdown",
   "metadata": {},
   "source": [
    "14) Crear un ciclo while que encuentre dentro del rango de 100 a 300 el primer número divisible por 3 y además múltiplo de 6"
   ]
  },
  {
   "cell_type": "code",
   "execution_count": 21,
   "metadata": {},
   "outputs": [
    {
     "name": "stdout",
     "output_type": "stream",
     "text": [
      "102\n"
     ]
    }
   ],
   "source": [
    "n= 99\n",
    "while (n < 300):\n",
    "    if (n % 6 == 0):\n",
    "        print(n)\n",
    "        break\n",
    "    n += 1\n",
    "\n"
   ]
  }
 ],
 "metadata": {
  "interpreter": {
   "hash": "c85384e4cb51c8b72350f3a8712cc8351fdc3955e32a27f9b60c6242ab125f01"
  },
  "kernelspec": {
   "display_name": "Python 3 (ipykernel)",
   "language": "python",
   "name": "python3"
  },
  "language_info": {
   "codemirror_mode": {
    "name": "ipython",
    "version": 3
   },
   "file_extension": ".py",
   "mimetype": "text/x-python",
   "name": "python",
   "nbconvert_exporter": "python",
   "pygments_lexer": "ipython3",
   "version": "3.12.2"
  }
 },
 "nbformat": 4,
 "nbformat_minor": 4
}
