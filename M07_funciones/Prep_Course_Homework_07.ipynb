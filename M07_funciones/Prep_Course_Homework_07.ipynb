{
 "cells": [
  {
   "attachments": {},
   "cell_type": "markdown",
   "metadata": {},
   "source": [
    "## Funciones"
   ]
  },
  {
   "attachments": {},
   "cell_type": "markdown",
   "metadata": {},
   "source": [
    "1) Crear una función que reciba un número como parámetro y devuelva True si es primo y False si no lo es"
   ]
  },
  {
   "cell_type": "code",
   "execution_count": 2,
   "metadata": {},
   "outputs": [],
   "source": [
    "def es_primo (numero):\n",
    "    primo = True\n",
    "    for div in range (2, numero):\n",
    "        if numero % div == 0:\n",
    "            primo = False\n",
    "            break\n",
    "    return primo"
   ]
  },
  {
   "cell_type": "code",
   "execution_count": 4,
   "metadata": {},
   "outputs": [
    {
     "data": {
      "text/plain": [
       "True"
      ]
     },
     "execution_count": 4,
     "metadata": {},
     "output_type": "execute_result"
    }
   ],
   "source": [
    "es_primo(0)"
   ]
  },
  {
   "attachments": {},
   "cell_type": "markdown",
   "metadata": {},
   "source": [
    "2) Utilizando la función del punto 1, realizar otra función que reciba de parámetro una lista de números y devuelva sólo aquellos que son primos en otra lista"
   ]
  },
  {
   "cell_type": "code",
   "execution_count": 18,
   "metadata": {},
   "outputs": [],
   "source": [
    "def lista_primo (lista_numeros):\n",
    "    lista_primos = []\n",
    "    for i in lista_numeros:\n",
    "        if es_primo(i) == True:\n",
    "            lista_primos.append(i)\n",
    "    return print(\"los números primos son: \", lista_primos)\n",
    "         \n"
   ]
  },
  {
   "cell_type": "code",
   "execution_count": 21,
   "metadata": {},
   "outputs": [
    {
     "name": "stdout",
     "output_type": "stream",
     "text": [
      "los números primos son:  [1, 2, 3, 5, 7, 11, 13]\n"
     ]
    }
   ],
   "source": [
    "lista_primo([1,2,3,4,5,6,7,8,9,10,11,12,13,15])"
   ]
  },
  {
   "attachments": {},
   "cell_type": "markdown",
   "metadata": {},
   "source": [
    "3) Crear una función que al recibir una lista de números, devuelva el que más se repite y cuántas veces lo hace. Si hay más de un \"más repetido\", que devuelva cualquiera"
   ]
  },
  {
   "cell_type": "code",
   "execution_count": 27,
   "metadata": {},
   "outputs": [],
   "source": [
    "        "
   ]
  },
  {
   "attachments": {},
   "cell_type": "markdown",
   "metadata": {},
   "source": [
    "4) Crear una función que convierta entre grados Celsius, Farenheit y Kelvin<br>\n",
    "Fórmula 1\t: (°C × 9/5) + 32 = °F<br>\n",
    "Fórmula 2\t: °C + 273.15 = °K<br>\n",
    "Debe recibir 3 parámetros: el valor, la medida de orígen y la medida de destino\n"
   ]
  },
  {
   "cell_type": "code",
   "execution_count": 3,
   "metadata": {},
   "outputs": [],
   "source": [
    "def conversion_temperatura ( valor , origen , destino):\n",
    "    if origen == \"°C\":\n",
    "        if destino == \"°C\":\n",
    "            temperatura_destino = valor\n",
    "        elif destino == \"°F\":\n",
    "            temperatura_destino = (valor * 9/5) + 32\n",
    "        elif destino == \"°K\":\n",
    "            temperatura_destino = (valor + 273.15)\n",
    "        else:\n",
    "            print (\"Parametro destino incorrecto\")\n",
    "    elif origen == \"°F\":\n",
    "        if destino == \"°C\":\n",
    "            temperatura_destino = (valor - 32) * 5/9\n",
    "        elif destino == \"°F\":\n",
    "            temperatura_destino = valor\n",
    "        elif destino == \"°K\":\n",
    "            temperatura_destino = ((valor - 32)*5/9) + 273.15\n",
    "        else:\n",
    "            print (\"Parametro destino incorrecto\")\n",
    "    elif origen == \"°K\":\n",
    "        if destino == \"°C\":\n",
    "            temperatura_destino = valor - 273.15\n",
    "        elif destino == \"°F\":\n",
    "            temperatura_destino = ((valor - 273.15)* 9/5 ) + 32\n",
    "        elif destino == \"°K\":\n",
    "            temperatura_destino = valor\n",
    "        else:\n",
    "            print (\"Parametro destino incorrecto\")\n",
    "    else:\n",
    "        print(\"Parametro origen incorrecto\")\n",
    "    return temperatura_destino\n",
    "\n",
    "\n"
   ]
  },
  {
   "cell_type": "code",
   "execution_count": 22,
   "metadata": {},
   "outputs": [
    {
     "name": "stdout",
     "output_type": "stream",
     "text": [
      "0 °C to °F is 32.0\n"
     ]
    }
   ],
   "source": [
    "print (\"0 °C to °F is\" , conversion_temperatura(0, \"°C\", \"°F\"))"
   ]
  },
  {
   "attachments": {},
   "cell_type": "markdown",
   "metadata": {},
   "source": [
    "5) Iterando una lista con los tres valores posibles de temperatura que recibe la función del punto 5, hacer un print para cada combinación de los mismos:"
   ]
  },
  {
   "cell_type": "code",
   "execution_count": 12,
   "metadata": {},
   "outputs": [
    {
     "name": "stdout",
     "output_type": "stream",
     "text": [
      "0 grados  °C to °C is  0\n",
      "0 grados  °C to °F is  32.0\n",
      "0 grados  °C to °K is  273.15\n",
      "0 grados  °F to °C is  -17.77777777777778\n",
      "0 grados  °F to °F is  0\n",
      "0 grados  °F to °K is  255.3722222222222\n",
      "0 grados  °K to °C is  -273.15\n",
      "0 grados  °K to °F is  -459.66999999999996\n",
      "0 grados  °K to °K is  0\n"
     ]
    }
   ],
   "source": [
    "lista_temperaturas = [\"°C\", \"°F\", \"°K\"]\n",
    "for origen_tem in range (0,3):\n",
    "    for destino_tem in range (0,3):\n",
    "       print (\"0 grados \", lista_temperaturas[origen_tem] , \"to\", lista_temperaturas[destino_tem], \"is \", conversion_temperatura(0, lista_temperaturas[origen_tem], lista_temperaturas[destino_tem]))\n"
   ]
  },
  {
   "attachments": {},
   "cell_type": "markdown",
   "metadata": {},
   "source": [
    "6) Armar una función que devuelva el factorial de un número. Tener en cuenta que el usuario puede equivocarse y enviar de parámetro un número no entero o negativo"
   ]
  },
  {
   "cell_type": "code",
   "execution_count": 117,
   "metadata": {},
   "outputs": [],
   "source": [
    "def factorial (numero):\n",
    "    if type(numero) != int:\n",
    "        return \"Debe ser un numero entero para calcular factorial\"\n",
    "    elif numero < 0 :\n",
    "        return \"Debe ser un número positivo para calcular factorial\"\n",
    "    elif numero == 0:\n",
    "        return 1\n",
    "    else:\n",
    "        numero = numero * factorial (numero-1)\n",
    "        return numero\n",
    "    \n"
   ]
  },
  {
   "cell_type": "code",
   "execution_count": 125,
   "metadata": {},
   "outputs": [
    {
     "data": {
      "text/plain": [
       "1307674368000"
      ]
     },
     "execution_count": 125,
     "metadata": {},
     "output_type": "execute_result"
    }
   ],
   "source": [
    "factorial (15)"
   ]
  }
 ],
 "metadata": {
  "interpreter": {
   "hash": "c85384e4cb51c8b72350f3a8712cc8351fdc3955e32a27f9b60c6242ab125f01"
  },
  "kernelspec": {
   "display_name": "Python 3 (ipykernel)",
   "language": "python",
   "name": "python3"
  },
  "language_info": {
   "codemirror_mode": {
    "name": "ipython",
    "version": 3
   },
   "file_extension": ".py",
   "mimetype": "text/x-python",
   "name": "python",
   "nbconvert_exporter": "python",
   "pygments_lexer": "ipython3",
   "version": "3.12.2"
  }
 },
 "nbformat": 4,
 "nbformat_minor": 4
}
